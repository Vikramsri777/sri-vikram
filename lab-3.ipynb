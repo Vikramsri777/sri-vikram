{
  "nbformat": 4,
  "nbformat_minor": 0,
  "metadata": {
    "colab": {
      "provenance": []
    },
    "kernelspec": {
      "name": "python3",
      "display_name": "Python 3"
    },
    "language_info": {
      "name": "python"
    }
  },
  "cells": [
    {
      "cell_type": "markdown",
      "source": [
        "lab3: implement breadth first search ,depth first and A*search algorithm part1:implement breadth first serach algorithm using queue"
      ],
      "metadata": {
        "id": "2C1R5FM9eX1U"
      }
    },
    {
      "cell_type": "code",
      "source": [
        "import numpy as np\n"
      ],
      "metadata": {
        "id": "CPIS0hESeaoL"
      },
      "execution_count": 1,
      "outputs": []
    },
    {
      "cell_type": "code",
      "source": [
        "from queue import Queue\n",
        "graph = {0:[1,2,3], 1:[0,2], 2:[1,0,5], 3:[0,4], 4:[3,7], 5:[2,6], 6:[5,7], 7:[4,6] }\n",
        "print(\"the adjacency list representing the graph is:\")\n",
        "print(graph)"
      ],
      "metadata": {
        "colab": {
          "base_uri": "https://localhost:8080/"
        },
        "id": "zaLdIfbSefWt",
        "outputId": "7faae253-363a-4650-9fab-bb52ffd95ef2"
      },
      "execution_count": 2,
      "outputs": [
        {
          "output_type": "stream",
          "name": "stdout",
          "text": [
            "the adjacency list representing the graph is:\n",
            "{0: [1, 2, 3], 1: [0, 2], 2: [1, 0, 5], 3: [0, 4], 4: [3, 7], 5: [2, 6], 6: [5, 7], 7: [4, 6]}\n"
          ]
        }
      ]
    },
    {
      "cell_type": "code",
      "source": [
        "def bfs(graph, source):\n",
        "  Q = Queue()\n",
        "  visited_vertices = set()\n",
        "  Q.put(source)\n",
        "  visited_vertices.update({source})\n",
        "  while not Q.empty():\n",
        "    vertex = Q.get()\n",
        "    print(vertex, end=\"-->\")\n",
        "    for u in graph [vertex]:\n",
        "      if u not in visited_vertices:\n",
        "        Q.put(u)\n",
        "        visited_vertices.update({u})\n",
        "\n",
        "\n",
        "print(\"BFS traversal of graph with source 0 is:\")\n",
        "bfs(graph,0)"
      ],
      "metadata": {
        "colab": {
          "base_uri": "https://localhost:8080/"
        },
        "id": "FaRNLPJRejYB",
        "outputId": "4a7157e5-f8dc-4f8b-e61c-9d815deb784c"
      },
      "execution_count": 3,
      "outputs": [
        {
          "output_type": "stream",
          "name": "stdout",
          "text": [
            "BFS traversal of graph with source 0 is:\n",
            "0-->1-->2-->3-->5-->4-->6-->7-->"
          ]
        }
      ]
    },
    {
      "cell_type": "markdown",
      "source": [
        "part2:implement depth first search algorithm"
      ],
      "metadata": {
        "id": "0VZLm0Btew2E"
      }
    },
    {
      "cell_type": "code",
      "source": [
        "graph1 = {\n",
        "    'A' : ['C','D','G'],\n",
        "    'B' : ['A'],\n",
        "    'C' : ['A','D','F'],\n",
        "    'D' : ['A','C','E','G','H'],\n",
        "    'E' : ['D','F','H'],\n",
        "    'F' : ['C','E'],\n",
        "    'G' : ['A','D','H'],\n",
        "    'H' : ['D','E','G'],\n",
        "\n",
        "}\n",
        "print(\"the adjacent list of the representing the graph is: \")\n",
        "print(graph1)"
      ],
      "metadata": {
        "colab": {
          "base_uri": "https://localhost:8080/"
        },
        "id": "MgsSDnX-exiq",
        "outputId": "539405c8-c7ba-43a2-f1cc-b0759a0c0b1f"
      },
      "execution_count": 4,
      "outputs": [
        {
          "output_type": "stream",
          "name": "stdout",
          "text": [
            "the adjacent list of the representing the graph is: \n",
            "{'A': ['C', 'D', 'G'], 'B': ['A'], 'C': ['A', 'D', 'F'], 'D': ['A', 'C', 'E', 'G', 'H'], 'E': ['D', 'F', 'H'], 'F': ['C', 'E'], 'G': ['A', 'D', 'H'], 'H': ['D', 'E', 'G']}\n"
          ]
        }
      ]
    },
    {
      "cell_type": "code",
      "source": [
        "def dfs(graph, node, visited):\n",
        "  if node not in visited:\n",
        "    visited.append(node)\n",
        "    for k in graph[node]:\n",
        "      dfs(graph,k, visited)\n",
        "  return visited\n",
        "\n",
        "visited = dfs(graph1,'B', [])\n",
        "print(visited)"
      ],
      "metadata": {
        "colab": {
          "base_uri": "https://localhost:8080/"
        },
        "id": "K7fzJS3oe4_z",
        "outputId": "2e579cea-89e4-40a2-9f8b-5e6923521289"
      },
      "execution_count": 5,
      "outputs": [
        {
          "output_type": "stream",
          "name": "stdout",
          "text": [
            "['B', 'A', 'C', 'D', 'E', 'F', 'H', 'G']\n"
          ]
        }
      ]
    },
    {
      "cell_type": "markdown",
      "source": [
        "Part3: implement of A*Algorithm/or graph search algorithm"
      ],
      "metadata": {
        "id": "_4mh50VUe8LG"
      }
    },
    {
      "cell_type": "code",
      "source": [
        "from copy import deepcopy\n",
        "import numpy as np\n",
        "import time"
      ],
      "metadata": {
        "id": "EbxNfGvFe9Dq"
      },
      "execution_count": 6,
      "outputs": []
    }
  ]
}